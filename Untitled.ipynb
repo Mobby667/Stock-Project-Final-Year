{
 "cells": [
  {
   "cell_type": "code",
   "execution_count": 1,
   "id": "0311df4b-3015-463f-a353-885f5d6ce77d",
   "metadata": {},
   "outputs": [],
   "source": [
    "### Data Collection\n",
    "import pandas_datareader as pdr\n",
    "key=\"36e886b9d18a03d4e78282038925c0403ef29826\""
   ]
  },
  {
   "cell_type": "code",
   "execution_count": 5,
   "id": "a6e02e27-3f9b-4d43-a60e-645a8a20fd74",
   "metadata": {},
   "outputs": [],
   "source": [
    "from tiingo import TiingoClient\n",
    "import pandas as pd\n",
    "\n",
    "config = {\n",
    "    'session': True,\n",
    "    'api_key': \"36e886b9d18a03d4e78282038925c0403ef29826\"  \n",
    "}\n",
    "\n",
    "client = TiingoClient(config)\n",
    "\n",
    "# Get Apple data\n",
    "df = client.get_dataframe(\"AAPL\",\n",
    "                         startDate='2015-01-01',\n",
    "                         endDate='2024-01-01',\n",
    "                         frequency='daily')\n",
    "\n",
    "df.to_csv('AAPL.csv')"
   ]
  },
  {
   "cell_type": "code",
   "execution_count": 8,
   "id": "00b04900-5cf5-460c-b1d0-28da60ce3451",
   "metadata": {},
   "outputs": [],
   "source": [
    "\n",
    "df1=df.reset_index()['close']"
   ]
  },
  {
   "cell_type": "code",
   "execution_count": 9,
   "id": "3e82c272-b883-476e-8d60-e89109035fb6",
   "metadata": {},
   "outputs": [
    {
     "data": {
      "text/plain": [
       "0       109.33\n",
       "1       106.25\n",
       "2       106.26\n",
       "3       107.75\n",
       "4       111.89\n",
       "         ...  \n",
       "2259    193.60\n",
       "2260    193.05\n",
       "2261    193.15\n",
       "2262    193.58\n",
       "2263    192.53\n",
       "Name: close, Length: 2264, dtype: float64"
      ]
     },
     "execution_count": 9,
     "metadata": {},
     "output_type": "execute_result"
    }
   ],
   "source": [
    "df1\n"
   ]
  },
  {
   "cell_type": "code",
   "execution_count": 10,
   "id": "36a0843c-f9a1-418c-a356-3ae9df4c3e06",
   "metadata": {},
   "outputs": [
    {
     "data": {
      "text/plain": [
       "[<matplotlib.lines.Line2D at 0x1df65212950>]"
      ]
     },
     "execution_count": 10,
     "metadata": {},
     "output_type": "execute_result"
    },
    {
     "data": {
      "image/png": "[encoded data removed]",
      "text/plain": [
       "<Figure size 640x480 with 1 Axes>"
      ]
     },
     "metadata": {},
     "output_type": "display_data"
    }
   ],
   "source": [
    "import matplotlib.pyplot as plt\n",
    "plt.plot(df1)"
   ]
  },
  {
   "cell_type": "code",
   "execution_count": 11,
   "id": "b50cc3e4-e012-41a3-8f72-473f3da805d5",
   "metadata": {},
   "outputs": [
    {
     "data": {
      "text/plain": [
       "0       109.33\n",
       "1       106.25\n",
       "2       106.26\n",
       "3       107.75\n",
       "4       111.89\n",
       "         ...  \n",
       "2259    193.60\n",
       "2260    193.05\n",
       "2261    193.15\n",
       "2262    193.58\n",
       "2263    192.53\n",
       "Name: close, Length: 2264, dtype: float64"
      ]
     },
     "execution_count": 11,
     "metadata": {},
     "output_type": "execute_result"
    }
   ],
   "source": [
    "### LSTM are sensitive to the scale of the data. so we apply MinMax scaler     \n",
    "import numpy as np\n",
    "df1\n"
   ]
  },
  {
   "cell_type": "code",
   "execution_count": 12,
   "id": "6ac73cd9-be76-4d61-8583-4ca5b4e25926",
   "metadata": {},
   "outputs": [
    {
     "name": "stdout",
     "output_type": "stream",
     "text": [
      "[[0.04567649]\n",
      " [0.03826819]\n",
      " [0.03829224]\n",
      " ...\n",
      " [0.24728803]\n",
      " [0.24832231]\n",
      " [0.24579675]]\n"
     ]
    }
   ],
   "source": [
    "from sklearn.preprocessing import MinMaxScaler\n",
    "scaler=MinMaxScaler(feature_range=(0,1))\n",
    "df1=scaler.fit_transform(np.array(df1).reshape(-1,1))\n",
    "print(df1)\n"
   ]
  },
  {
   "cell_type": "code",
   "execution_count": 13,
   "id": "111d3f8e-bce7-40ff-9481-371f05967763",
   "metadata": {},
   "outputs": [
    {
     "data": {
      "text/plain": [
       "(1471, 793)"
      ]
     },
     "execution_count": 13,
     "metadata": {},
     "output_type": "execute_result"
    }
   ],
   "source": [
    "##splitting dataset into train and test split\n",
    "training_size=int(len(df1)*0.65)\n",
    "test_size=len(df1)-training_size\n",
    "train_data,test_data=df1[0:training_size,:],df1[training_size:len(df1),:1]\n",
    "training_size,test_size"
   ]
  },
  {
   "cell_type": "code",
   "execution_count": 15,
   "id": "b970f99d-567e-4c4c-adef-508c17bc7068",
   "metadata": {},
   "outputs": [
    {
     "data": {
      "text/plain": [
       "array([[0.04567649],\n",
       "       [0.03826819],\n",
       "       [0.03829224],\n",
       "       ...,\n",
       "       [0.044546  ],\n",
       "       [0.04432952],\n",
       "       [0.04834636]])"
      ]
     },
     "execution_count": 15,
     "metadata": {},
     "output_type": "execute_result"
    }
   ],
   "source": [
    "\n",
    "train_data"
   ]
  },
  {
   "cell_type": "code",
   "execution_count": 16,
   "id": "9b635483-566c-4f0a-932f-d9f70d2b4b86",
   "metadata": {},
   "outputs": [
    {
     "name": "stdout",
     "output_type": "stream",
     "text": [
      "(1370, 100)\n",
      "(1370,)\n"
     ]
    },
    {
     "data": {
      "text/plain": [
       "(None, None)"
      ]
     },
     "execution_count": 16,
     "metadata": {},
     "output_type": "execute_result"
    }
   ],
   "source": [
    "import numpy\n",
    "# convert an array of values into a dataset matrix\n",
    "def create_dataset(dataset, time_step=1):\n",
    "\tdataX, dataY = [], []\n",
    "\tfor i in range(len(dataset)-time_step-1):\n",
    "\t\ta = dataset[i:(i+time_step), 0]   ###i=0, 0,1,2,3-----99   100 \n",
    "\t\tdataX.append(a)\n",
    "\t\tdataY.append(dataset[i + time_step, 0])\n",
    "\treturn numpy.array(dataX), numpy.array(dataY)\n",
    "\n",
    "\n",
    "     \n",
    "\n",
    "# reshape into X=t,t+1,t+2,t+3 and Y=t+4\n",
    "time_step = 100\n",
    "X_train, y_train = create_dataset(train_data, time_step)\n",
    "X_test, ytest = create_dataset(test_data, time_step)\n",
    "\n",
    "\n",
    "     \n",
    "\n",
    "print(X_train.shape), print(y_train.shape)"
   ]
  },
  {
   "cell_type": "code",
   "execution_count": 17,
   "id": "7d8a39f1-4bed-416c-9ec8-f44bf14ed601",
   "metadata": {},
   "outputs": [
    {
     "name": "stdout",
     "output_type": "stream",
     "text": [
      "(692, 100)\n",
      "(692,)\n"
     ]
    },
    {
     "data": {
      "text/plain": [
       "(None, None)"
      ]
     },
     "execution_count": 17,
     "metadata": {},
     "output_type": "execute_result"
    }
   ],
   "source": [
    "print(X_test.shape), print(ytest.shape)"
   ]
  },
  {
   "cell_type": "code",
   "execution_count": 18,
   "id": "ea547a38-81c1-42bf-97aa-170b093cbf47",
   "metadata": {},
   "outputs": [],
   "source": [
    "# reshape input to be [samples, time steps, features] which is required for LSTM\n",
    "X_train =X_train.reshape(X_train.shape[0],X_train.shape[1] , 1)\n",
    "X_test = X_test.reshape(X_test.shape[0],X_test.shape[1] , 1)\n",
    "\n"
   ]
  },
  {
   "cell_type": "code",
   "execution_count": 19,
   "id": "0be42387-d2a5-4283-922d-800db2ed1123",
   "metadata": {},
   "outputs": [],
   "source": [
    "### Create the Stacked LSTM model\n",
    "from tensorflow.keras.models import Sequential\n",
    "from tensorflow.keras.layers import Dense\n",
    "from tensorflow.keras.layers import LSTM"
   ]
  },
  {
   "cell_type": "code",
   "execution_count": 20,
   "id": "f0178e75-b704-4d39-ac32-c5ab9a09e351",
   "metadata": {},
   "outputs": [],
   "source": [
    "model=Sequential()\n",
    "model.add(LSTM(50,return_sequences=True,input_shape=(100,1)))\n",
    "model.add(LSTM(50,return_sequences=True))\n",
    "model.add(LSTM(50))\n",
    "model.add(Dense(1))\n",
    "model.compile(loss='mean_squared_error',optimizer='adam')\n"
   ]
  },
  {
   "cell_type": "code",
   "execution_count": 21,
   "id": "f954ccd6-620d-4e01-a311-3969efe8b28d",
   "metadata": {},
   "outputs": [
    {
     "name": "stdout",
     "output_type": "stream",
     "text": [
      "Model: \"sequential\"\n",
      "_________________________________________________________________\n",
      " Layer (type)                Output Shape              Param #   \n",
      "=================================================================\n",
      " lstm (LSTM)                 (None, 100, 50)           10400     \n",
      "                                                                 \n",
      " lstm_1 (LSTM)               (None, 100, 50)           20200     \n",
      "                                                                 \n",
      " lstm_2 (LSTM)               (None, 50)                20200     \n",
      "                                                                 \n",
      " dense (Dense)               (None, 1)                 51        \n",
      "                                                                 \n",
      "=================================================================\n",
      "Total params: 50,851\n",
      "Trainable params: 50,851\n",
      "Non-trainable params: 0\n",
      "_________________________________________________________________\n"
     ]
    }
   ],
   "source": [
    "model.summary()"
   ]
  },
  {
   "cell_type": "code",
   "execution_count": 22,
   "id": "ddad6de3-0374-43dd-b541-52bdfe6df621",
   "metadata": {},
   "outputs": [
    {
     "name": "stdout",
     "output_type": "stream",
     "text": [
      "Epoch 1/100\n",
      "22/22 [==============================] - 12s 217ms/step - loss: 0.0155 - val_loss: 7.8874e-04\n",
      "Epoch 2/100\n",
      "22/22 [==============================] - 3s 147ms/step - loss: 0.0052 - val_loss: 2.9345e-04\n",
      "Epoch 3/100\n",
      "22/22 [==============================] - 3s 160ms/step - loss: 0.0046 - val_loss: 2.7878e-04\n",
      "Epoch 4/100\n",
      "22/22 [==============================] - 3s 154ms/step - loss: 0.0039 - val_loss: 2.3188e-04\n",
      "Epoch 5/100\n",
      "22/22 [==============================] - 3s 152ms/step - loss: 0.0033 - val_loss: 4.1073e-04\n",
      "Epoch 6/100\n",
      "22/22 [==============================] - 3s 153ms/step - loss: 0.0029 - val_loss: 0.0017\n",
      "Epoch 7/100\n",
      "22/22 [==============================] - 3s 153ms/step - loss: 0.0028 - val_loss: 2.3563e-04\n",
      "Epoch 8/100\n",
      "22/22 [==============================] - 3s 155ms/step - loss: 0.0027 - val_loss: 2.2736e-04\n",
      "Epoch 9/100\n",
      "22/22 [==============================] - 3s 158ms/step - loss: 0.0022 - val_loss: 1.7532e-04\n",
      "Epoch 10/100\n",
      "22/22 [==============================] - 3s 160ms/step - loss: 0.0018 - val_loss: 2.3997e-04\n",
      "Epoch 11/100\n",
      "22/22 [==============================] - 4s 161ms/step - loss: 0.0020 - val_loss: 4.0804e-04\n",
      "Epoch 12/100\n",
      "22/22 [==============================] - 3s 154ms/step - loss: 0.0014 - val_loss: 1.7037e-04\n",
      "Epoch 13/100\n",
      "22/22 [==============================] - 3s 152ms/step - loss: 0.0033 - val_loss: 2.6740e-04\n",
      "Epoch 14/100\n",
      "22/22 [==============================] - 3s 154ms/step - loss: 0.0024 - val_loss: 1.6881e-04\n",
      "Epoch 15/100\n",
      "22/22 [==============================] - 3s 151ms/step - loss: 0.0024 - val_loss: 4.5861e-04\n",
      "Epoch 16/100\n",
      "22/22 [==============================] - 3s 153ms/step - loss: 0.0022 - val_loss: 2.2765e-04\n",
      "Epoch 17/100\n",
      "22/22 [==============================] - 3s 155ms/step - loss: 0.0019 - val_loss: 1.7016e-04\n",
      "Epoch 18/100\n",
      "22/22 [==============================] - 3s 153ms/step - loss: 0.0017 - val_loss: 1.5027e-04\n",
      "Epoch 19/100\n",
      "22/22 [==============================] - 3s 153ms/step - loss: 0.0018 - val_loss: 5.9154e-04\n",
      "Epoch 20/100\n",
      "22/22 [==============================] - 3s 154ms/step - loss: 0.0018 - val_loss: 2.2159e-04\n",
      "Epoch 21/100\n",
      "22/22 [==============================] - 3s 154ms/step - loss: 0.0017 - val_loss: 5.1590e-04\n",
      "Epoch 22/100\n",
      "22/22 [==============================] - 3s 152ms/step - loss: 0.0016 - val_loss: 2.5358e-04\n",
      "Epoch 23/100\n",
      "22/22 [==============================] - 3s 152ms/step - loss: 0.0014 - val_loss: 2.0946e-04\n",
      "Epoch 24/100\n",
      "22/22 [==============================] - 3s 154ms/step - loss: 0.0016 - val_loss: 6.2029e-04\n",
      "Epoch 25/100\n",
      "22/22 [==============================] - 3s 156ms/step - loss: 0.0017 - val_loss: 1.5401e-04\n",
      "Epoch 26/100\n",
      "22/22 [==============================] - 3s 155ms/step - loss: 0.0014 - val_loss: 1.4644e-04\n",
      "Epoch 27/100\n",
      "22/22 [==============================] - 3s 152ms/step - loss: 0.0019 - val_loss: 2.0391e-04\n",
      "Epoch 28/100\n",
      "22/22 [==============================] - 3s 152ms/step - loss: 0.0015 - val_loss: 1.4979e-04\n",
      "Epoch 29/100\n",
      "22/22 [==============================] - 3s 157ms/step - loss: 0.0015 - val_loss: 3.1373e-04\n",
      "Epoch 30/100\n",
      "22/22 [==============================] - 3s 152ms/step - loss: 0.0013 - val_loss: 1.9811e-04\n",
      "Epoch 31/100\n",
      "22/22 [==============================] - 3s 152ms/step - loss: 0.0012 - val_loss: 1.3841e-04\n",
      "Epoch 32/100\n",
      "22/22 [==============================] - 3s 152ms/step - loss: 0.0012 - val_loss: 1.7115e-04\n",
      "Epoch 33/100\n",
      "22/22 [==============================] - 3s 151ms/step - loss: 0.0015 - val_loss: 3.3664e-04\n",
      "Epoch 34/100\n",
      "22/22 [==============================] - 3s 150ms/step - loss: 0.0012 - val_loss: 1.9513e-04\n",
      "Epoch 35/100\n",
      "22/22 [==============================] - 3s 151ms/step - loss: 0.0011 - val_loss: 1.8206e-04\n",
      "Epoch 36/100\n",
      "22/22 [==============================] - 3s 151ms/step - loss: 0.0010 - val_loss: 1.3800e-04\n",
      "Epoch 37/100\n",
      "22/22 [==============================] - 3s 152ms/step - loss: 0.0011 - val_loss: 1.4156e-04\n",
      "Epoch 38/100\n",
      "22/22 [==============================] - 3s 153ms/step - loss: 0.0010 - val_loss: 1.6964e-04\n",
      "Epoch 39/100\n",
      "22/22 [==============================] - 3s 153ms/step - loss: 0.0012 - val_loss: 1.3975e-04\n",
      "Epoch 40/100\n",
      "22/22 [==============================] - 3s 151ms/step - loss: 9.5732e-04 - val_loss: 1.8505e-04\n",
      "Epoch 41/100\n",
      "22/22 [==============================] - 3s 154ms/step - loss: 0.0011 - val_loss: 1.5932e-04\n",
      "Epoch 42/100\n",
      "22/22 [==============================] - 3s 153ms/step - loss: 0.0015 - val_loss: 2.4316e-04\n",
      "Epoch 43/100\n",
      "22/22 [==============================] - 3s 151ms/step - loss: 0.0012 - val_loss: 2.3176e-04\n",
      "Epoch 44/100\n",
      "22/22 [==============================] - 3s 153ms/step - loss: 0.0010 - val_loss: 1.4802e-04\n",
      "Epoch 45/100\n",
      "22/22 [==============================] - 3s 154ms/step - loss: 0.0012 - val_loss: 4.0325e-04\n",
      "Epoch 46/100\n",
      "22/22 [==============================] - 3s 153ms/step - loss: 0.0011 - val_loss: 1.5755e-04\n",
      "Epoch 47/100\n",
      "22/22 [==============================] - 3s 154ms/step - loss: 0.0011 - val_loss: 1.6480e-04\n",
      "Epoch 48/100\n",
      "22/22 [==============================] - 3s 153ms/step - loss: 8.3150e-04 - val_loss: 1.7153e-04\n",
      "Epoch 49/100\n",
      "22/22 [==============================] - 3s 154ms/step - loss: 9.0709e-04 - val_loss: 1.3613e-04\n",
      "Epoch 50/100\n",
      "22/22 [==============================] - 3s 152ms/step - loss: 9.3711e-04 - val_loss: 1.5383e-04\n",
      "Epoch 51/100\n",
      "22/22 [==============================] - 3s 154ms/step - loss: 0.0011 - val_loss: 1.3621e-04\n",
      "Epoch 52/100\n",
      "22/22 [==============================] - 3s 152ms/step - loss: 8.0021e-04 - val_loss: 1.6274e-04\n",
      "Epoch 53/100\n",
      "22/22 [==============================] - 3s 155ms/step - loss: 8.2319e-04 - val_loss: 1.3250e-04\n",
      "Epoch 54/100\n",
      "22/22 [==============================] - 3s 153ms/step - loss: 8.4937e-04 - val_loss: 1.4521e-04\n",
      "Epoch 55/100\n",
      "22/22 [==============================] - 3s 153ms/step - loss: 9.2095e-04 - val_loss: 2.3868e-04\n",
      "Epoch 56/100\n",
      "22/22 [==============================] - 3s 154ms/step - loss: 0.0013 - val_loss: 5.1866e-04\n",
      "Epoch 57/100\n",
      "22/22 [==============================] - 3s 153ms/step - loss: 0.0012 - val_loss: 1.4392e-04\n",
      "Epoch 58/100\n",
      "22/22 [==============================] - 3s 153ms/step - loss: 0.0011 - val_loss: 1.5297e-04\n",
      "Epoch 59/100\n",
      "22/22 [==============================] - 3s 152ms/step - loss: 0.0010 - val_loss: 1.4452e-04\n",
      "Epoch 60/100\n",
      "22/22 [==============================] - 3s 153ms/step - loss: 8.9667e-04 - val_loss: 4.0603e-04\n",
      "Epoch 61/100\n",
      "22/22 [==============================] - 3s 153ms/step - loss: 8.3521e-04 - val_loss: 1.3182e-04\n",
      "Epoch 62/100\n",
      "22/22 [==============================] - 3s 153ms/step - loss: 7.8812e-04 - val_loss: 1.5617e-04\n",
      "Epoch 63/100\n",
      "22/22 [==============================] - 3s 153ms/step - loss: 7.4985e-04 - val_loss: 2.5630e-04\n",
      "Epoch 64/100\n",
      "22/22 [==============================] - 3s 152ms/step - loss: 8.5858e-04 - val_loss: 1.3945e-04\n",
      "Epoch 65/100\n",
      "22/22 [==============================] - 3s 152ms/step - loss: 0.0010 - val_loss: 1.2818e-04\n",
      "Epoch 66/100\n",
      "22/22 [==============================] - 3s 154ms/step - loss: 7.0829e-04 - val_loss: 1.2324e-04\n",
      "Epoch 67/100\n",
      "22/22 [==============================] - 3s 150ms/step - loss: 6.9304e-04 - val_loss: 1.2466e-04\n",
      "Epoch 68/100\n",
      "22/22 [==============================] - 3s 150ms/step - loss: 6.6282e-04 - val_loss: 1.6208e-04\n",
      "Epoch 69/100\n",
      "22/22 [==============================] - 3s 157ms/step - loss: 7.7141e-04 - val_loss: 1.2667e-04\n",
      "Epoch 70/100\n",
      "22/22 [==============================] - 3s 152ms/step - loss: 6.8550e-04 - val_loss: 1.2378e-04\n",
      "Epoch 71/100\n",
      "22/22 [==============================] - 3s 153ms/step - loss: 6.5458e-04 - val_loss: 1.7556e-04\n",
      "Epoch 72/100\n",
      "22/22 [==============================] - 3s 154ms/step - loss: 7.1672e-04 - val_loss: 1.1072e-04\n",
      "Epoch 73/100\n",
      "22/22 [==============================] - 3s 155ms/step - loss: 7.0219e-04 - val_loss: 1.8344e-04\n",
      "Epoch 74/100\n",
      "22/22 [==============================] - 3s 153ms/step - loss: 6.6020e-04 - val_loss: 1.4555e-04\n",
      "Epoch 75/100\n",
      "22/22 [==============================] - 3s 156ms/step - loss: 6.5733e-04 - val_loss: 1.4869e-04\n",
      "Epoch 76/100\n",
      "22/22 [==============================] - 3s 152ms/step - loss: 6.3234e-04 - val_loss: 1.4645e-04\n",
      "Epoch 77/100\n",
      "22/22 [==============================] - 3s 153ms/step - loss: 6.9630e-04 - val_loss: 1.6083e-04\n",
      "Epoch 78/100\n",
      "22/22 [==============================] - 3s 155ms/step - loss: 6.7210e-04 - val_loss: 1.4026e-04\n",
      "Epoch 79/100\n",
      "22/22 [==============================] - 3s 153ms/step - loss: 0.0015 - val_loss: 2.7647e-04\n",
      "Epoch 80/100\n",
      "22/22 [==============================] - 3s 151ms/step - loss: 0.0015 - val_loss: 1.7529e-04\n",
      "Epoch 81/100\n",
      "22/22 [==============================] - 3s 155ms/step - loss: 0.0012 - val_loss: 1.9672e-04\n",
      "Epoch 82/100\n",
      "22/22 [==============================] - 3s 152ms/step - loss: 9.5700e-04 - val_loss: 2.7522e-04\n",
      "Epoch 83/100\n",
      "22/22 [==============================] - 3s 152ms/step - loss: 9.9553e-04 - val_loss: 2.3271e-04\n",
      "Epoch 84/100\n",
      "22/22 [==============================] - 3s 152ms/step - loss: 8.6930e-04 - val_loss: 1.0003e-04\n",
      "Epoch 85/100\n",
      "22/22 [==============================] - 3s 152ms/step - loss: 9.0454e-04 - val_loss: 9.8889e-05\n",
      "Epoch 86/100\n",
      "22/22 [==============================] - 3s 156ms/step - loss: 7.3322e-04 - val_loss: 1.0169e-04\n",
      "Epoch 87/100\n",
      "22/22 [==============================] - 3s 156ms/step - loss: 7.9101e-04 - val_loss: 1.0353e-04\n",
      "Epoch 88/100\n",
      "22/22 [==============================] - 3s 156ms/step - loss: 7.5176e-04 - val_loss: 1.3489e-04\n",
      "Epoch 89/100\n",
      "22/22 [==============================] - 3s 154ms/step - loss: 7.6795e-04 - val_loss: 1.8393e-04\n",
      "Epoch 90/100\n",
      "22/22 [==============================] - 3s 154ms/step - loss: 9.3861e-04 - val_loss: 1.2752e-04\n",
      "Epoch 91/100\n",
      "22/22 [==============================] - 3s 154ms/step - loss: 7.7283e-04 - val_loss: 1.2828e-04\n",
      "Epoch 92/100\n",
      "22/22 [==============================] - 3s 152ms/step - loss: 6.5802e-04 - val_loss: 9.4808e-05\n",
      "Epoch 93/100\n",
      "22/22 [==============================] - 3s 154ms/step - loss: 6.0103e-04 - val_loss: 1.0218e-04\n",
      "Epoch 94/100\n",
      "22/22 [==============================] - 3s 152ms/step - loss: 6.1664e-04 - val_loss: 1.1870e-04\n",
      "Epoch 95/100\n",
      "22/22 [==============================] - 3s 153ms/step - loss: 6.6683e-04 - val_loss: 1.5007e-04\n",
      "Epoch 96/100\n",
      "22/22 [==============================] - 3s 156ms/step - loss: 8.2701e-04 - val_loss: 8.9272e-05\n",
      "Epoch 97/100\n",
      "22/22 [==============================] - 3s 153ms/step - loss: 6.7919e-04 - val_loss: 1.8732e-04\n",
      "Epoch 98/100\n",
      "22/22 [==============================] - 3s 154ms/step - loss: 6.0621e-04 - val_loss: 9.6455e-05\n",
      "Epoch 99/100\n",
      "22/22 [==============================] - 3s 153ms/step - loss: 5.6398e-04 - val_loss: 1.0467e-04\n",
      "Epoch 100/100\n",
      "22/22 [==============================] - 3s 152ms/step - loss: 5.9637e-04 - val_loss: 1.4890e-04\n"
     ]
    },
    {
     "data": {
      "text/plain": [
       "<keras.callbacks.History at 0x1df70741180>"
      ]
     },
     "execution_count": 22,
     "metadata": {},
     "output_type": "execute_result"
    }
   ],
   "source": [
    "model.fit(X_train,y_train,validation_data=(X_test,ytest),epochs=100,batch_size=64,verbose=1)"
   ]
  },
  {
   "cell_type": "code",
   "execution_count": 23,
   "id": "8117e7de-1045-4d71-8dae-48fc7f6f19f3",
   "metadata": {},
   "outputs": [],
   "source": [
    "model.save('stock_prediction_lstm.h5') "
   ]
  },
  {
   "cell_type": "code",
   "execution_count": 24,
   "id": "d6663702-ee99-4f22-91cf-f3168205b348",
   "metadata": {},
   "outputs": [
    {
     "data": {
      "text/plain": [
       "'2.10.0'"
      ]
     },
     "execution_count": 24,
     "metadata": {},
     "output_type": "execute_result"
    }
   ],
   "source": [
    "import tensorflow as tf\n",
    "tf.__version__"
   ]
  },
  {
   "cell_type": "code",
   "execution_count": 25,
   "id": "718c1ced-9990-42f5-8662-6ed3286b0ff3",
   "metadata": {},
   "outputs": [
    {
     "name": "stdout",
     "output_type": "stream",
     "text": [
      "43/43 [==============================] - 3s 30ms/step\n",
      "22/22 [==============================] - 1s 30ms/step\n"
     ]
    }
   ],
   "source": [
    "## Lets Do the prediction and check performance metrics\n",
    "train_predict=model.predict(X_train)\n",
    "test_predict=model.predict(X_test)\n"
   ]
  },
  {
   "cell_type": "code",
   "execution_count": 26,
   "id": "5c80471d-0070-438e-a30b-aa7e2f1b85eb",
   "metadata": {},
   "outputs": [],
   "source": [
    "##Transformback to original form\n",
    "train_predict=scaler.inverse_transform(train_predict)\n",
    "test_predict=scaler.inverse_transform(test_predict)\n"
   ]
  },
  {
   "cell_type": "code",
   "execution_count": 27,
   "id": "de5edfd8-2840-4913-9a17-2523c295c34b",
   "metadata": {},
   "outputs": [
    {
     "data": {
      "text/plain": [
       "190.05442490130346"
      ]
     },
     "execution_count": 27,
     "metadata": {},
     "output_type": "execute_result"
    }
   ],
   "source": [
    "### Calculate RMSE performance metrics\n",
    "import math\n",
    "from sklearn.metrics import mean_squared_error\n",
    "math.sqrt(mean_squared_error(y_train,train_predict))\n"
   ]
  },
  {
   "cell_type": "code",
   "execution_count": 28,
   "id": "ae514fc4-26af-4bd4-a212-98cc909d6e9e",
   "metadata": {},
   "outputs": [
    {
     "data": {
      "text/plain": [
       "156.25764749419716"
      ]
     },
     "execution_count": 28,
     "metadata": {},
     "output_type": "execute_result"
    }
   ],
   "source": [
    "### Test Data RMSE\n",
    "math.sqrt(mean_squared_error(ytest,test_predict))\n"
   ]
  },
  {
   "cell_type": "code",
   "execution_count": 29,
   "id": "1d35980e-b4a0-4593-9aed-218fd23409a0",
   "metadata": {},
   "outputs": [
    {
     "data": {
      "image/png": "[encoded data removed]",
      "text/plain": [
       "<Figure size 640x480 with 1 Axes>"
      ]
     },
     "metadata": {},
     "output_type": "display_data"
    }
   ],
   "source": [
    "### Plotting \n",
    "# shift train predictions for plotting\n",
    "look_back=100\n",
    "trainPredictPlot = numpy.empty_like(df1)\n",
    "trainPredictPlot[:, :] = np.nan\n",
    "trainPredictPlot[look_back:len(train_predict)+look_back, :] = train_predict\n",
    "# shift test predictions for plotting\n",
    "testPredictPlot = numpy.empty_like(df1)\n",
    "testPredictPlot[:, :] = numpy.nan\n",
    "testPredictPlot[len(train_predict)+(look_back*2)+1:len(df1)-1, :] = test_predict\n",
    "# plot baseline and predictions\n",
    "plt.plot(scaler.inverse_transform(df1))\n",
    "plt.plot(trainPredictPlot)\n",
    "plt.plot(testPredictPlot)\n",
    "plt.show()\n"
   ]
  },
  {
   "cell_type": "code",
   "execution_count": 30,
   "id": "acf55732-0b34-4da8-acbc-c72385ee67dd",
   "metadata": {},
   "outputs": [
    {
     "data": {
      "text/plain": [
       "793"
      ]
     },
     "execution_count": 30,
     "metadata": {},
     "output_type": "execute_result"
    }
   ],
   "source": [
    "\n",
    "len(test_data)"
   ]
  },
  {
   "cell_type": "code",
   "execution_count": 31,
   "id": "eee9e336-59b4-4366-b76f-390811f6edf8",
   "metadata": {},
   "outputs": [
    {
     "data": {
      "text/plain": [
       "(1, 452)"
      ]
     },
     "execution_count": 31,
     "metadata": {},
     "output_type": "execute_result"
    }
   ],
   "source": [
    "x_input=test_data[341:].reshape(1,-1)\n",
    "x_input.shape\n"
   ]
  },
  {
   "cell_type": "code",
   "execution_count": 32,
   "id": "11add424-85cb-402a-a46e-66fcc2f23fc5",
   "metadata": {},
   "outputs": [],
   "source": [
    "temp_input=list(x_input)\n",
    "temp_input=temp_input[0].tolist()\n"
   ]
  },
  {
   "cell_type": "code",
   "execution_count": 33,
   "id": "e7df0ef6-de5b-4516-8587-6522997b1fc3",
   "metadata": {},
   "outputs": [
    {
     "data": {
      "text/plain": [
       "[0.15574263379434755,\n",
       " 0.1665664461815995,\n",
       " 0.16904389657245938,\n",
       " 0.17712567648827415,\n",
       " 0.18049308478653037,\n",
       " 0.18876728803367404,\n",
       " 0.19211064341551415,\n",
       " 0.20139506915213468,\n",
       " 0.2029585087191822,\n",
       " 0.20507516536380033,\n",
       " 0.21315694527961515,\n",
       " 0.21029464822609745,\n",
       " 0.20269392663860497,\n",
       " 0.20197233914612145,\n",
       " 0.21190619362597712,\n",
       " 0.20377630787733014,\n",
       " 0.19600721587492487,\n",
       " 0.19675285628382438,\n",
       " 0.19182200841852076,\n",
       " 0.18138304269392663,\n",
       " 0.18597714972940466,\n",
       " 0.19256764882742033,\n",
       " 0.1802766085387853,\n",
       " 0.17974744437763074,\n",
       " 0.18535177390258567,\n",
       " 0.1849428743235117,\n",
       " 0.1829945880938063,\n",
       " 0.17185808779314488,\n",
       " 0.17447985568250146,\n",
       " 0.15985568250150334,\n",
       " 0.15930246542393262,\n",
       " 0.1763078773301262,\n",
       " 0.1619001803968731,\n",
       " 0.16264582080577272,\n",
       " 0.1663018641010222,\n",
       " 0.18203247143716178,\n",
       " 0.15978352375225496,\n",
       " 0.16101022248947683,\n",
       " 0.14845460012026457,\n",
       " 0.15434756464221283,\n",
       " 0.13508117859290436,\n",
       " 0.12560432952495487,\n",
       " 0.13654840649428746,\n",
       " 0.13277209861695727,\n",
       " 0.14167167769092004,\n",
       " 0.12141912206855077,\n",
       " 0.11307276007215872,\n",
       " 0.11365003006614549,\n",
       " 0.12692723992784127,\n",
       " 0.12031268791340954,\n",
       " 0.12069753457606736,\n",
       " 0.12853878532772095,\n",
       " 0.14263379434756457,\n",
       " 0.1407095610342754,\n",
       " 0.1403968731208659,\n",
       " 0.14641010222489476,\n",
       " 0.13238725195429946,\n",
       " 0.1342152736019242,\n",
       " 0.1403968731208659,\n",
       " 0.13859290438965727,\n",
       " 0.12579675285628378,\n",
       " 0.11254359591100416,\n",
       " 0.09991581479254358,\n",
       " 0.10203247143716171,\n",
       " 0.10845460012026459,\n",
       " 0.09553818400481057,\n",
       " 0.0991461214672279,\n",
       " 0.10951292844257365,\n",
       " 0.10826217678893563,\n",
       " 0.11528562838244139,\n",
       " 0.12343956704750447,\n",
       " 0.12343956704750447,\n",
       " 0.11328923631990379,\n",
       " 0.11759470835838842,\n",
       " 0.11155742633794347,\n",
       " 0.11687312086590501,\n",
       " 0.12319903788334335,\n",
       " 0.12647023451593503,\n",
       " 0.13472038484666266,\n",
       " 0.1363800360793746,\n",
       " 0.1311605532170776,\n",
       " 0.133541791942273,\n",
       " 0.13265183403487674,\n",
       " 0.13981960312687913,\n",
       " 0.1439085989176187,\n",
       " 0.13645219482862292,\n",
       " 0.14590499098015636,\n",
       " 0.15081178592904387,\n",
       " 0.15636800962116654,\n",
       " 0.15333734215273603,\n",
       " 0.1505953096812988,\n",
       " 0.14734816596512323,\n",
       " 0.15983162958508718,\n",
       " 0.16117859290438963,\n",
       " 0.1735898977751052,\n",
       " 0.17118460613349368,\n",
       " 0.16757666867107635,\n",
       " 0.182297053517739,\n",
       " 0.18152736019242333,\n",
       " 0.180420926037282,\n",
       " 0.1792663860493085,\n",
       " 0.17938665063138903,\n",
       " 0.18977751052315095,\n",
       " 0.18797354179194226,\n",
       " 0.1966566446181599,\n",
       " 0.19927841250751654,\n",
       " 0.19889356584485868,\n",
       " 0.20254960914010828,\n",
       " 0.20158749248346364,\n",
       " 0.1952615754660253,\n",
       " 0.18576067348165964,\n",
       " 0.1849428743235117,\n",
       " 0.18566446181599516,\n",
       " 0.19167769092002407,\n",
       " 0.17625977149729405,\n",
       " 0.17087191822008418,\n",
       " 0.16493084786530365,\n",
       " 0.16086590499098014,\n",
       " 0.16264582080577272,\n",
       " 0.15747444377630787,\n",
       " 0.1543956704750451,\n",
       " 0.15783523752254963,\n",
       " 0.1542273000601323,\n",
       " 0.1612266987372219,\n",
       " 0.17580276608538786,\n",
       " 0.15273601924233315,\n",
       " 0.1562717979555021,\n",
       " 0.14920024052916414,\n",
       " 0.14518340348767284,\n",
       " 0.15427540589296446,\n",
       " 0.16009621166566446,\n",
       " 0.1524473842453397,\n",
       " 0.15009019843656046,\n",
       " 0.14453397474443774,\n",
       " 0.1453517739025857,\n",
       " 0.1477330126277811,\n",
       " 0.14311485267588697,\n",
       " 0.1254119061936259,\n",
       " 0.11511725796752853,\n",
       " 0.1253397474443776,\n",
       " 0.13411906193625972,\n",
       " 0.13484064942874324,\n",
       " 0.13250751653638004,\n",
       " 0.1196632591701744,\n",
       " 0.12045700541190613,\n",
       " 0.11699338544798554,\n",
       " 0.11545399879735418,\n",
       " 0.1266386049308479,\n",
       " 0.11555021046301861,\n",
       " 0.12524353577871317,\n",
       " 0.12846662657847263,\n",
       " 0.1287312086590499,\n",
       " 0.12760072158749242,\n",
       " 0.13693325315694527,\n",
       " 0.14217678893565838,\n",
       " 0.14912808177991582,\n",
       " 0.14193625977149726,\n",
       " 0.1309921828021648,\n",
       " 0.15730607336139507,\n",
       " 0.15153337342152734,\n",
       " 0.1450631389055923,\n",
       " 0.1315453998797354,\n",
       " 0.11675285628382437,\n",
       " 0.11555021046301861,\n",
       " 0.11684906794948885,\n",
       " 0.11824413710162357,\n",
       " 0.10710763680096214,\n",
       " 0.13597113650030068,\n",
       " 0.14277811184606132,\n",
       " 0.13936259771497295,\n",
       " 0.1435959110042092,\n",
       " 0.1405892964521948,\n",
       " 0.1452315093205051,\n",
       " 0.14660252555622366,\n",
       " 0.1387131689717378,\n",
       " 0.14393265183403486,\n",
       " 0.1460733613950691,\n",
       " 0.13895369813589897,\n",
       " 0.12959711365003007,\n",
       " 0.12226097414311482,\n",
       " 0.13876127480457007,\n",
       " 0.13943475646422127,\n",
       " 0.1382321106434155,\n",
       " 0.13539386650631385,\n",
       " 0.12644618159951893,\n",
       " 0.12170775706554415,\n",
       " 0.12582080577269994,\n",
       " 0.12464221286831023,\n",
       " 0.13024654239326516,\n",
       " 0.13260372820204447,\n",
       " 0.1271677690920024,\n",
       " 0.1110282621767889,\n",
       " 0.10624173180998192,\n",
       " 0.10109440769693323,\n",
       " 0.10092603728202043,\n",
       " 0.10850270595309675,\n",
       " 0.10075766686710758,\n",
       " 0.09986770895971137,\n",
       " 0.09546602525556225,\n",
       " 0.08586891160553217,\n",
       " 0.0944558027660854,\n",
       " 0.09522549609140107,\n",
       " 0.08353577871316892,\n",
       " 0.08663860493084785,\n",
       " 0.08341551413108839,\n",
       " 0.0944798556825015,\n",
       " 0.09575466025255563,\n",
       " 0.0971497294046903,\n",
       " 0.10378833433553819,\n",
       " 0.10359591100420923,\n",
       " 0.1068430547203848,\n",
       " 0.10968129885748645,\n",
       " 0.10792543595911003,\n",
       " 0.10806975345760672,\n",
       " 0.11432351172579674,\n",
       " 0.12211665664461818,\n",
       " 0.12553217077570655,\n",
       " 0.12392062537582682,\n",
       " 0.12897173782321109,\n",
       " 0.1337101623571858,\n",
       " 0.126662657847264,\n",
       " 0.12976548406494282,\n",
       " 0.13250751653638004,\n",
       " 0.14547203848466622,\n",
       " 0.15432351172579672,\n",
       " 0.14766085387853273,\n",
       " 0.15468430547203849,\n",
       " 0.1481178592904389,\n",
       " 0.14559230306674686,\n",
       " 0.1459290438965724,\n",
       " 0.1527600721587492,\n",
       " 0.15119663259170169,\n",
       " 0.15631990378833432,\n",
       " 0.15242333132892366,\n",
       " 0.14963319302465428,\n",
       " 0.13984365604329518,\n",
       " 0.1408779314491882,\n",
       " 0.14205652435357785,\n",
       " 0.13558628983764281,\n",
       " 0.13849669272399273,\n",
       " 0.13726999398677087,\n",
       " 0.13221888153938666,\n",
       " 0.13366205652435353,\n",
       " 0.14597714972940468,\n",
       " 0.15271196632591705,\n",
       " 0.14734816596512323,\n",
       " 0.15040288634996996,\n",
       " 0.1449188214070956,\n",
       " 0.13989176187612745,\n",
       " 0.14463018641010222,\n",
       " 0.1497294046903187,\n",
       " 0.15069152134696334,\n",
       " 0.1575706554419723,\n",
       " 0.15552615754660254,\n",
       " 0.16129885748647022,\n",
       " 0.16582080577269992,\n",
       " 0.16233313289236323,\n",
       " 0.16497895369813592,\n",
       " 0.16815393866506312,\n",
       " 0.1634155141310884,\n",
       " 0.1619001803968731,\n",
       " 0.16940469031870115,\n",
       " 0.17322910402886355,\n",
       " 0.17933854479855682,\n",
       " 0.18239326518340343,\n",
       " 0.18109440769693325,\n",
       " 0.17659651232711965,\n",
       " 0.17876127480457005,\n",
       " 0.1724353577871317,\n",
       " 0.16947684906794952,\n",
       " 0.16779314491882136,\n",
       " 0.18092603728202045,\n",
       " 0.1800841852074564,\n",
       " 0.1801322910402886,\n",
       " 0.18311485267588695,\n",
       " 0.18590499098015634,\n",
       " 0.18354780517137703,\n",
       " 0.1796271797955502,\n",
       " 0.18037282020444978,\n",
       " 0.1766205652435358,\n",
       " 0.17659651232711965,\n",
       " 0.18778111846061335,\n",
       " 0.19083583884546002,\n",
       " 0.19061936259771495,\n",
       " 0.18809380637402284,\n",
       " 0.1854720384846662,\n",
       " 0.18147925435959106,\n",
       " 0.20019242333132892,\n",
       " 0.20002405291641612,\n",
       " 0.19586289837642817,\n",
       " 0.20015634395670473,\n",
       " 0.200625375826819,\n",
       " 0.19778713168971734,\n",
       " 0.19658448586891158,\n",
       " 0.19658448586891158,\n",
       " 0.19807576668671073,\n",
       " 0.20375225496091404,\n",
       " 0.20401683704149126,\n",
       " 0.20170775706554417,\n",
       " 0.19535778713168972,\n",
       " 0.19603126879134097,\n",
       " 0.19879735417919425,\n",
       " 0.2046662657847264,\n",
       " 0.20916416115454,\n",
       " 0.20904389657245942,\n",
       " 0.21587492483463622,\n",
       " 0.21794347564642208,\n",
       " 0.21464822609741435,\n",
       " 0.21375826819001803,\n",
       " 0.21041491280817798,\n",
       " 0.2170294648226097,\n",
       " 0.21796752856283824,\n",
       " 0.22477450390859888,\n",
       " 0.2236199639206254,\n",
       " 0.22515935057125674,\n",
       " 0.23011425135297653,\n",
       " 0.22749248346361994,\n",
       " 0.22770895971136496,\n",
       " 0.2251834034876729,\n",
       " 0.232495490078172,\n",
       " 0.23172579675285632,\n",
       " 0.228334335538184,\n",
       " 0.2350450992182802,\n",
       " 0.23790739627179797,\n",
       " 0.23872519542994586,\n",
       " 0.2492603728202044,\n",
       " 0.24562838244137103,\n",
       " 0.24291040288634996,\n",
       " 0.2440649428743235,\n",
       " 0.2413469633193025,\n",
       " 0.2363680096211666,\n",
       " 0.23509320505111247,\n",
       " 0.239158147925436,\n",
       " 0.24101022248947684,\n",
       " 0.24137101623571855,\n",
       " 0.24930847865303668,\n",
       " 0.24868310282621764,\n",
       " 0.2519783523752255,\n",
       " 0.2472399278412507,\n",
       " 0.244377630787733,\n",
       " 0.24632591701743833,\n",
       " 0.24841852074564041,\n",
       " 0.25053517739025855,\n",
       " 0.24745640408899577,\n",
       " 0.25373421527360196,\n",
       " 0.25522549609140105,\n",
       " 0.2531930246542393,\n",
       " 0.24591701743836442,\n",
       " 0.2425255562236921,\n",
       " 0.22044497895369813,\n",
       " 0.21289236319903787,\n",
       " 0.21517739025856886,\n",
       " 0.21130487071557424,\n",
       " 0.21077570655441968,\n",
       " 0.2103427540589296,\n",
       " 0.2143595911004209,\n",
       " 0.20952495490078166,\n",
       " 0.20740829825616353,\n",
       " 0.20122669873722188,\n",
       " 0.20240529164161153,\n",
       " 0.20565243535778716,\n",
       " 0.20899579073962715,\n",
       " 0.2183523752254961,\n",
       " 0.20695129284425734,\n",
       " 0.21231509320505115,\n",
       " 0.21611545399879734,\n",
       " 0.22556825015033072,\n",
       " 0.23405892964521946,\n",
       " 0.23458809380637402,\n",
       " 0.23841250751653636,\n",
       " 0.23898977751052314,\n",
       " 0.22265784726398075,\n",
       " 0.209789536981359,\n",
       " 0.21128081779915814,\n",
       " 0.2141190619362598,\n",
       " 0.20675886951292843,\n",
       " 0.20173180998196033,\n",
       " 0.20541190619362598,\n",
       " 0.2036560432952495,\n",
       " 0.21077570655441968,\n",
       " 0.21342152736019238,\n",
       " 0.2048105832832231,\n",
       " 0.20105832832230908,\n",
       " 0.203126879134095,\n",
       " 0.20622970535177393,\n",
       " 0.19631990378833436,\n",
       " 0.19263980757666865,\n",
       " 0.19326518340348764,\n",
       " 0.19451593505712567,\n",
       " 0.200625375826819,\n",
       " 0.19737823211064343,\n",
       " 0.20040889957907393,\n",
       " 0.20341551413108838,\n",
       " 0.2096211665664462,\n",
       " 0.21322910402886353,\n",
       " 0.21178592904389654,\n",
       " 0.21517739025856886,\n",
       " 0.21736620565243536,\n",
       " 0.21289236319903787,\n",
       " 0.21257967528562838,\n",
       " 0.20880336740829825,\n",
       " 0.20565243535778716,\n",
       " 0.20473842453397473,\n",
       " 0.19853277209861692,\n",
       " 0.1988214070956103,\n",
       " 0.19987973541791942,\n",
       " 0.19425135297654839,\n",
       " 0.18412507516536375,\n",
       " 0.18732411304870716,\n",
       " 0.192303066746843,\n",
       " 0.1934576067348166,\n",
       " 0.2011545399879735,\n",
       " 0.2098135898977751,\n",
       " 0.2076007215874925,\n",
       " 0.21380637402285024,\n",
       " 0.22003607937462416,\n",
       " 0.22260974143114848,\n",
       " 0.221455201443175,\n",
       " 0.23105231509320506,\n",
       " 0.2272038484666266,\n",
       " 0.23355381840048106,\n",
       " 0.23492483463619962,\n",
       " 0.2390138304269393,\n",
       " 0.23896572459410703,\n",
       " 0.2431990378833433,\n",
       " 0.24125075165363796,\n",
       " 0.24286229705351775,\n",
       " 0.23963920625375823,\n",
       " 0.23920625375826815,\n",
       " 0.24067348165965124,\n",
       " 0.23819603126879135,\n",
       " 0.23959110042092602,\n",
       " 0.24269392663860495,\n",
       " 0.23834034876728805,\n",
       " 0.24793746241731807,\n",
       " 0.24529164161154537,\n",
       " 0.24998196031268793,\n",
       " 0.2534455802766086,\n",
       " 0.24736019242333135,\n",
       " 0.251040288634997,\n",
       " 0.25885748647023454,\n",
       " 0.25921828021647625,\n",
       " 0.257919422730006,\n",
       " 0.2538785327720986,\n",
       " 0.2564040889957907,\n",
       " 0.2513289236319904,\n",
       " 0.2509681298857487,\n",
       " 0.24837041491280815,\n",
       " 0.24704750450992186,\n",
       " 0.24728803367408297,\n",
       " 0.248322309079976,\n",
       " 0.24579675285628383]"
      ]
     },
     "execution_count": 33,
     "metadata": {},
     "output_type": "execute_result"
    }
   ],
   "source": [
    "temp_input"
   ]
  },
  {
   "cell_type": "code",
   "execution_count": 53,
   "id": "343d2e37-59b6-4065-aa25-e9270bd4435e",
   "metadata": {
    "scrolled": true
   },
   "outputs": [
    {
     "data": {
      "image/png": "[encoded data removed]",
      "text/plain": [
       "<Figure size 1000x500 with 1 Axes>"
      ]
     },
     "metadata": {},
     "output_type": "display_data"
    }
   ],
   "source": [
    "# Assuming 'df1' is your scaled dataset (e.g., shape [len, 1])\n",
    "# and 'scaler' is your MinMaxScaler instance\n",
    "# and your model was trained on 100 timesteps\n",
    "\n",
    "# STEP 1: Get last 100 data points as input\n",
    "input_seq = df1[-100:].reshape(-1)  # Flatten to 1D list\n",
    "\n",
    "# STEP 2: Use prediction loop\n",
    "lst_output = []\n",
    "n_steps = 100  # MUST match your time_step\n",
    "temp_input = test_data[-n_steps:].flatten().tolist()  # Start with last 100 values from test data\n",
    "\n",
    "for _ in range(30):  # Predict 30 days\n",
    "    # Always use last 100 values\n",
    "    x_input = np.array(temp_input[-n_steps:]).reshape(1, n_steps, 1)\n",
    "    yhat = model.predict(x_input, verbose=0)[0][0]\n",
    "    temp_input.append(yhat)\n",
    "    lst_output.append(yhat)\n",
    "# STEP 3: Inverse transform predictions\n",
    "predicted_values = scaler.inverse_transform(np.array(lst_output).reshape(-1, 1))\n",
    "\n",
    "# STEP 4: Plot\n",
    "day_new = np.arange(len(df1) - 100, len(df1))       # e.g., last 100 days\n",
    "day_pred = np.arange(len(df1), len(df1) + 30)       # 30 predicted days\n",
    "actual_values = scaler.inverse_transform(df1[-100:])\n",
    "\n",
    "import matplotlib.pyplot as plt\n",
    "\n",
    "plt.figure(figsize=(10,5))\n",
    "plt.plot(day_new, actual_values, label=\"Actual\")\n",
    "plt.plot(day_pred, predicted_values, label=\"Predicted\", color='red')\n",
    "plt.xlabel(\"Day\")\n",
    "plt.ylabel(\"Price\")\n",
    "plt.title(\"Prediction for Next 30 Days\")\n",
    "plt.legend()\n",
    "plt.grid(True)\n",
    "plt.show()\n"
   ]
  },
  {
   "cell_type": "code",
   "execution_count": 48,
   "id": "158ead19-6488-47d2-be63-b0dae055cf93",
   "metadata": {},
   "outputs": [
    {
     "data": {
      "text/plain": [
       "[<matplotlib.lines.Line2D at 0x1df04712c20>]"
      ]
     },
     "execution_count": 48,
     "metadata": {},
     "output_type": "execute_result"
    },
    {
     "data": {
      "image/png": "[encoded data removed]",
      "text/plain": [
       "<Figure size 640x480 with 1 Axes>"
      ]
     },
     "metadata": {},
     "output_type": "display_data"
    }
   ],
   "source": [
    "df3=df1.tolist()\n",
    "df3.extend(lst_output)\n",
    "plt.plot(df3[1200:])"
   ]
  },
  {
   "cell_type": "code",
   "execution_count": 49,
   "id": "19de263e-7b13-4e9a-b07c-d94f698b45e4",
   "metadata": {},
   "outputs": [
    {
     "data": {
      "text/plain": [
       "[<matplotlib.lines.Line2D at 0x1df7fe6a680>]"
      ]
     },
     "execution_count": 49,
     "metadata": {},
     "output_type": "execute_result"
    },
    {
     "data": {
      "image/png": "[encoded data removed]",
      "text/plain": [
       "<Figure size 640x480 with 1 Axes>"
      ]
     },
     "metadata": {},
     "output_type": "display_data"
    }
   ],
   "source": [
    "df3=scaler.inverse_transform(df3).tolist()\n",
    "plt.plot(df3)"
   ]
  },
  {
   "cell_type": "code",
   "execution_count": 52,
   "id": "9f848ac8-7a9d-4ea2-bf46-e8ead95e5c3d",
   "metadata": {},
   "outputs": [
    {
     "data": {
      "text/plain": [
       "['scaler.save']"
      ]
     },
     "execution_count": 52,
     "metadata": {},
     "output_type": "execute_result"
    }
   ],
   "source": [
    "model.save('stock_prediction_lstm.h5')\n",
    "import joblib\n",
    "joblib.dump(scaler, 'scaler.save')"
   ]
  },
  {
   "cell_type": "code",
   "execution_count": null,
   "id": "87ed690c-b240-4f0a-82d8-80010803755f",
   "metadata": {},
   "outputs": [],
   "source": []
  }
 ],
 "metadata": {
  "kernelspec": {
   "display_name": "Python 3 (ipykernel)",
   "language": "python",
   "name": "python3"
  },
  "language_info": {
   "codemirror_mode": {
    "name": "ipython",
    "version": 3
   },
   "file_extension": ".py",
   "mimetype": "text/x-python",
   "name": "python",
   "nbconvert_exporter": "python",
   "pygments_lexer": "ipython3",
   "version": "3.10.13"
  }
 },
 "nbformat": 4,
 "nbformat_minor": 5
}
